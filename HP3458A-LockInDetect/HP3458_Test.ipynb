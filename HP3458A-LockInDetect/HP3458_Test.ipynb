{
 "cells": [
  {
   "cell_type": "code",
   "execution_count": 65,
   "metadata": {},
   "outputs": [],
   "source": [
    "import matplotlib.pyplot as plt\n",
    "import time\n",
    "import numpy as np\n",
    "import visa\n",
    "import timeit\n"
   ]
  },
  {
   "cell_type": "code",
   "execution_count": 86,
   "metadata": {},
   "outputs": [
    {
     "name": "stdout",
     "output_type": "stream",
     "text": [
      "('ASRL1::INSTR', 'GPIB0::22::INSTR')\n"
     ]
    }
   ],
   "source": [
    "import visa\n",
    "rm = visa.ResourceManager()\n",
    "inst_list = rm.list_resources()\n",
    "print(inst_list)"
   ]
  },
  {
   "cell_type": "code",
   "execution_count": 95,
   "metadata": {},
   "outputs": [
    {
     "name": "stdout",
     "output_type": "stream",
     "text": [
      " 2.053760778E+00\n",
      " 47.4\n",
      "\n"
     ]
    }
   ],
   "source": [
    "with open('10v.csv', 'a') as o:\n",
    "\n",
    "    #inst = Gpib.Gpib(0,1) # Instrument GPIB Address = 17\n",
    "    visa_id = 'GPIB0::22::INSTR'\n",
    "    from pyvisa.resources import MessageBasedResource\n",
    "    inst = rm.open_resource(visa_id, resource_pyclass=MessageBasedResource)\n",
    "    inst.clear()\n",
    "    inst.timeout = 20000\n",
    "    inst.write(\"PRESET NORM\")\n",
    "    inst.write(\"OFORMAT ASCII\")\n",
    "    inst.write(\"BEEP\")\n",
    "    inst.write(\"DCV 10\")\n",
    "    inst.write(\"TARM HOLD\")\n",
    "    inst.write(\"TRIG AUTO\")\n",
    "    inst.write(\"NPLC 200\")\n",
    "    inst.write(\"NRDGS 1,AUTO\")\n",
    "    inst.write(\"MEM OFF\")\n",
    "    inst.write(\"END ALWAYS\")\n",
    "    inst.write(\"NDIG 9\")\n",
    "    inst.write(\"DISP MSG,\\\"nimporte U\\\"\")\n",
    "    inst.write(\"DISP ON\")\n",
    "    inst.write(\"TARM SGL,1\")\n",
    "    data = inst.read()\n",
    "    inst.write(\"TEMP?\")\n",
    "    #time.sleep(0.5)\n",
    "    temp = inst.read()\n",
    "    print(data, temp)\n",
    "    o.write(\"date;hp3458a;data;\\r\\n\")\n",
    "    \"\"\"\n",
    "    min = 0\n",
    "    while min <= 10000000:\n",
    "        min+=1\n",
    "        inst.write(\"TARM SGL,1\")\n",
    "        data = inst.read()\n",
    "        time.sleep(5)\n",
    "        print(time.strftime(\"%d/%m/%Y-%H:%M:%S;\") + (\"[%8d]: %16.16f\" % (min, float(data) ) ))\n",
    "        o.write (time.strftime(\"%d/%m/%Y-%H:%M:%S;\") + (\"%d;%16.16f;\\r\\n\" % (min, float(data) ) ))\"\"\""
   ]
  },
  {
   "cell_type": "code",
   "execution_count": null,
   "metadata": {},
   "outputs": [],
   "source": []
  }
 ],
 "metadata": {
  "kernelspec": {
   "display_name": "Python 3",
   "language": "python",
   "name": "python3"
  },
  "language_info": {
   "codemirror_mode": {
    "name": "ipython",
    "version": 3
   },
   "file_extension": ".py",
   "mimetype": "text/x-python",
   "name": "python",
   "nbconvert_exporter": "python",
   "pygments_lexer": "ipython3",
   "version": "3.6.5"
  }
 },
 "nbformat": 4,
 "nbformat_minor": 2
}
